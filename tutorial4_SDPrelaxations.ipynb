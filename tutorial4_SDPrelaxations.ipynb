{
 "cells": [
  {
   "cell_type": "code",
   "execution_count": 1,
   "id": "109afa57-cf9f-4726-b164-893250e11dbd",
   "metadata": {},
   "outputs": [
    {
     "name": "stdout",
     "output_type": "stream",
     "text": [
      "We find the ground state energy lower bound (LB) with an SDP relaxation \n",
      "\n",
      "example model: transverse field Ising model in 1D (periodic boundary conditions) \n",
      "\n"
     ]
    }
   ],
   "source": [
    "from IPython.display import display, Math\n",
    "\n",
    "print(\"We find the ground state energy lower bound (LB) with an SDP relaxation \\n\")\n",
    "\n",
    "print(\"example model: transverse field Ising model in 1D (periodic boundary conditions) \\n\")"
   ]
  },
  {
   "cell_type": "code",
   "execution_count": 2,
   "id": "92c70ab8-3eca-4e60-8c07-70f091a05e91",
   "metadata": {},
   "outputs": [
    {
     "data": {
      "text/latex": [
       "$\\displaystyle  H =  J \\sum_{i=1}^{L} \\sigma_i^x \\sigma_{i+1}^x + h \\sum_{i=1}^{L} \\sigma_i^z $"
      ],
      "text/plain": [
       "<IPython.core.display.Math object>"
      ]
     },
     "metadata": {},
     "output_type": "display_data"
    }
   ],
   "source": [
    "display(Math(r' H =  J \\sum_{i=1}^{L} \\sigma_i^x \\sigma_{i+1}^x + h \\sum_{i=1}^{L} \\sigma_i^z '))\n"
   ]
  },
  {
   "cell_type": "code",
   "execution_count": 3,
   "id": "51e4f2a8-f62c-4c70-aca9-089e884d62f7",
   "metadata": {},
   "outputs": [
    {
     "name": "stdout",
     "output_type": "stream",
     "text": [
      "For illustrative purposes, we first consider just two qubits, i.e. L=2\n"
     ]
    }
   ],
   "source": [
    "print(\"For illustrative purposes, we first consider just two qubits, i.e. L=2\")"
   ]
  },
  {
   "cell_type": "code",
   "execution_count": 4,
   "id": "2fe477d1-4cdc-4990-a06c-73687c851241",
   "metadata": {},
   "outputs": [
    {
     "name": "stdout",
     "output_type": "stream",
     "text": [
      "we are choosing relaxation with  M3\n",
      "are we imposing translational invariance?  no\n",
      "problem status is,  optimal\n",
      "The gnd state energy LB computed with the sdp relaxation is -2.414213562373095\n"
     ]
    }
   ],
   "source": [
    "\n",
    "\n",
    "relax=\"M3\"  #choose a relaxation \n",
    "symm=\"no\"   #impose translational invariance?\n",
    "print(\"we are choosing relaxation with \", relax)\n",
    "print(\"are we imposing translational invariance? \", symm)\n",
    "\n",
    "\n",
    "\n",
    "h=1; J=1; #define hamiltonian parameters\n",
    "\n",
    "\n",
    "import cvxpy as cp\n",
    "import numpy as np\n",
    "\n",
    "#define sdp viariables\n",
    "\n",
    "#first row and column of the moment matrix M\n",
    "z1 = cp.Variable((1, 1), complex=True)\n",
    "z2 = cp.Variable((1, 1), hermitian=True)\n",
    "x1x2 = cp.Variable((1, 1), hermitian=True)\n",
    "#\n",
    "#they appear in the middle of M because of Pauli replacement rules\n",
    "z1z2 = cp.Variable((1, 1), hermitian=True)\n",
    "y1x2 = cp.Variable((1, 1), hermitian=True)\n",
    "x1y2 = cp.Variable((1, 1), hermitian=True)   \n",
    "\n",
    "#Moment matrix M\n",
    "M=cp.bmat([[1 , z1[0][0], z2[0][0], x1x2[0][0]],\n",
    "        [z1[0][0] , 1 ,z1z2[0][0] , 1j*y1x2[0][0]] ,\n",
    "        [z2[0][0] , z1z2[0][0] , 1 , 1j*x1y2[0][0]] ,\n",
    "        [x1x2[0][0] ,-1j*y1x2[0][0] ,-1j*x1y2[0][0] , 1 ]])\n",
    "\n",
    "#M1, cancelling last row/column\n",
    "M1=cp.bmat([[1 ,z1[0][0],z2[0][0]],\n",
    "        [z1[0][0], 1 ,z1z2[0][0]],\n",
    "        [z2[0][0], z1z2[0][0], 1 ]])\n",
    "\n",
    "#M2, cancelling penultimate row/column\n",
    "M2=cp.bmat([[1 , z1[0][0], x1x2[0][0]],\n",
    "        [z1[0][0] ,1 , 1j*y1x2[0][0]],\n",
    "        [x1x2[0][0] ,-1j*y1x2[0][0],1]])\n",
    "\n",
    "#M3, cancelling the second row/column\n",
    "M3=cp.bmat([[1,z2[0][0], x1x2[0][0]],\n",
    "        [z2[0][0], 1, 1j*x1y2[0][0]],\n",
    "        [x1x2[0][0],-1j*x1y2[0][0],1]])\n",
    " \n",
    "#define constraints for the moments\n",
    "constraints = []\n",
    "\n",
    "if symm==\"yes\": constraints += [z1==z2]  # iff it is \"yes\" enforce translational invarinance \n",
    "\n",
    "\n",
    "if relax==\"M\":\n",
    "    constraints += [M >> 0]\n",
    "    constraints += [M==M.T.conj()]  #just a check, this is useless\n",
    "\n",
    "if relax==\"M1\":\n",
    "    constraints += [M1 >> 0]\n",
    "    constraints += [M1==M1.T.conj()]  #just a check, this is useless\n",
    "\n",
    "if relax==\"M2\":\n",
    "    constraints += [M2 >> 0]\n",
    "    constraints += [M2==M2.T.conj()]  #just a check, this is useless\n",
    "\n",
    "if relax==\"M3\":\n",
    "    constraints += [M3 >> 0]\n",
    "    constraints += [M3==M3.T.conj()]  #just a check, this is useless\n",
    "\n",
    "if relax==\"M2,M3\":\n",
    "    constraints += [M2 >> 0]\n",
    "    constraints += [M2==M2.T.conj()]  #just a check, this is useless\n",
    "    constraints += [M3 >> 0]\n",
    "    constraints += [M3==M3.T.conj()]  #just a check, this is useless\n",
    "\n",
    "\n",
    "#let us bound the values of the moments btween -1 and 1\n",
    "constraints += [cp.abs(z1) <= 1]\n",
    "constraints += [cp.abs(z2) <= 1]\n",
    "constraints += [cp.abs(x1x2) <= 1]\n",
    "#\n",
    "constraints += [cp.abs(x1y2) <= 1]\n",
    "constraints += [cp.abs(z1z2) <= 1]\n",
    "constraints += [cp.abs(y1x2) <= 1]\n",
    "\n",
    "\n",
    "#define the problem\n",
    "prob = cp.Problem(cp.Minimize(cp.real(h*(z1+z2) + J*x1x2)), constraints)\n",
    "prob.solve(solver=cp.MOSEK, verbose=False)#set verbose to true to see details on the calculation\n",
    "\n",
    "print(\"problem status is, \",prob.status)\n",
    "print(\"The gnd state energy LB computed with the sdp relaxation is\", prob.value)\n",
    "\n",
    "\n",
    "\n"
   ]
  },
  {
   "cell_type": "code",
   "execution_count": 5,
   "id": "5785893b-23eb-485f-ae5f-ff924cc60abe",
   "metadata": {},
   "outputs": [
    {
     "name": "stdout",
     "output_type": "stream",
     "text": [
      "True ground state energy: -2.23606797749979\n"
     ]
    }
   ],
   "source": [
    "#compare with the true value\n",
    "\n",
    "import numpy as np\n",
    "\n",
    "\n",
    "# Define basic single-qubit Pauli matrices, same as above\n",
    "I_mat = np.array([[1, 0], [0, 1]])\n",
    "X_mat = np.array([[0, 1], [1, 0]])\n",
    "Y_mat = np.array([[0, -1j], [1j, 0]])\n",
    "Z_mat = np.array([[1, 0], [0, -1]])\n",
    " \n",
    "\n",
    "# Full Hamiltonian: H = h*(Z1 + Z2) + J*X1X2\n",
    "H = h * (np.kron(Z_mat, I_mat) + np.kron(I_mat, Z_mat)) + J * np.kron(X_mat, X_mat)\n",
    "\n",
    "# Diagonalize the Hamiltonian\n",
    "eigvals, eigvecs = np.linalg.eigh(H)\n",
    "\n",
    "# Ground state energy and eigenvector\n",
    "ground_energy = eigvals[0]\n",
    "#ground_state = eigvecs[:, 0]  #The \":\" means \"all rows\"\n",
    "\n",
    "# Output\n",
    "print(\"True ground state energy:\", ground_energy)\n",
    "#print(\"Ground state vector:\\n\", ground_state)\n"
   ]
  },
  {
   "cell_type": "code",
   "execution_count": null,
   "id": "0d560e49-eba1-4081-a1fe-bbcd93ca61ed",
   "metadata": {},
   "outputs": [],
   "source": []
  },
  {
   "cell_type": "code",
   "execution_count": null,
   "id": "6083e6de-7d44-4393-b0e3-f08914bca465",
   "metadata": {},
   "outputs": [],
   "source": []
  },
  {
   "cell_type": "code",
   "execution_count": null,
   "id": "a61375db-c379-471e-a681-715274c39651",
   "metadata": {},
   "outputs": [],
   "source": []
  },
  {
   "cell_type": "code",
   "execution_count": 6,
   "id": "dceca72e-1198-4a66-8046-4b6f6d0fc2df",
   "metadata": {},
   "outputs": [
    {
     "name": "stdout",
     "output_type": "stream",
     "text": [
      "going to L qubits, scalable SDP relaxation\n"
     ]
    }
   ],
   "source": [
    "print(\"going to L qubits, scalable SDP relaxation\")"
   ]
  },
  {
   "cell_type": "code",
   "execution_count": 7,
   "id": "ee231b21-a942-45bc-8fd2-1b62108be96f",
   "metadata": {},
   "outputs": [
    {
     "name": "stdout",
     "output_type": "stream",
     "text": [
      "Solver status: optimal\n",
      "Ground state energy lower bound with SDP (L=8, PBC): -8.9442719094949\n",
      "\n",
      " L= 8\n",
      "gnd_energy_lb/L= -1.1180339886868624\n"
     ]
    }
   ],
   "source": [
    "#going to L qubits, scalable SDP relaxation\n",
    "\n",
    "import cvxpy as cp\n",
    "import numpy as np\n",
    "\n",
    "def sdp_ground_state_lb(L, h=1, J=.5, use_symmetry=False):\n",
    "    \"\"\"\n",
    "    SDP relaxation for estimating ground state energy LB of a 1D spin chain\n",
    "    with periodic boundary conditions.\n",
    "    \n",
    "    Hamiltonian: H = sum_i h*Z_i + sum_i J*X_i X_{i+1}  (X_{L+1} = X_1 for PBC)\n",
    "    \"\"\"\n",
    "    # Define variables\n",
    "    Z = [cp.Variable((1, 1), hermitian=True) for _ in range(L)]\n",
    "    XX = [cp.Variable((1, 1), hermitian=True) for _ in range(L)]         # X_i X_{i+1}\n",
    "    YX = [cp.Variable((1, 1), hermitian=True) for _ in range(L)]\n",
    "    XY = [cp.Variable((1, 1), hermitian=True) for _ in range(L)]   \n",
    "\n",
    "    constraints = []\n",
    "\n",
    "    # Enforce translational symmetry if specified\n",
    "    if use_symmetry:\n",
    "        for i in range(1, L):\n",
    "            constraints.append(Z[i] == Z[0])\n",
    "            constraints.append(XX[i] == XX[0])\n",
    "            constraints.append(YX[i] == YX[0])\n",
    "            constraints.append(XY[i] == XY[0])\n",
    "\n",
    "    # Add moment matrix constraints for each neighboring pair (with periodic boundary)\n",
    "    for i in range(L):\n",
    "        next_i = (i + 1) % L  # Wrap around for PBC\n",
    "\n",
    "        # Moment matrix with Z[i], X_i X_{i+1}, Y_i X_{i+1}, deleteting the punultimate row/column in M\n",
    "        M2 = cp.bmat([\n",
    "            [1,                 Z[i][0,0],           XX[i][0,0]],\n",
    "            [Z[i][0,0],         1,                   1j * YX[i][0,0]],\n",
    "            [XX[i][0,0],        -1j * YX[i][0,0],    1]\n",
    "        ])\n",
    "        constraints.append(M2 >> 0)\n",
    "        #constraints.append(M2 == M2.H)\n",
    "\n",
    "        # Moment matrix with Z[next_i], X_i X_{i+1}, X_i Z_{i+1}, deleting the second row/column in M\n",
    "        M3 = cp.bmat([\n",
    "            [1,                 Z[next_i][0,0],      XX[i][0,0]],\n",
    "            [Z[next_i][0,0],    1,                   1j * XY[i][0,0]],\n",
    "            [XX[i][0,0],        -1j * XY[i][0,0],    1]\n",
    "        ])\n",
    "        constraints.append(M3 >> 0)\n",
    "        # constraints.append(M3 == M3.H)\n",
    "\n",
    "    # Add |value| ≤ 1 constraints for all expectation values\n",
    "    for var_list in [Z, XX, YX, XY]:\n",
    "        for var in var_list:\n",
    "            constraints.append(cp.abs(var) <= 1)\n",
    "\n",
    "    # Define the energy objective: sum h * Z_i + J * X_i X_{i+1} (with wrap-around)\n",
    "    h_term = sum(h * Z[i] for i in range(L))\n",
    "    j_term = sum(J * XX[i] for i in range(L))  # includes (L, 0) term for PBC\n",
    "    energy_expr = cp.real(h_term + j_term)\n",
    "\n",
    "    # Solve the SDP\n",
    "    problem = cp.Problem(cp.Minimize(energy_expr), constraints)\n",
    "    problem.solve(solver=cp.MOSEK, verbose=False)\n",
    "\n",
    "    print(\"Solver status:\", problem.status)\n",
    "    print(f\"Ground state energy lower bound with SDP (L={L}, PBC):\", problem.value)\n",
    "\n",
    "    return problem.value\n",
    "\n",
    "# Example usage\n",
    "L=8\n",
    "energy_lb=sdp_ground_state_lb(L=L, h=1, J=.5, use_symmetry=False)  \n",
    "#J has to be half of the preceding, as the interaction gets counted twice for L=2 with pbc. scheme: o=o.\n",
    "\n",
    "print(\"\\n L=\",L)\n",
    "print(\"gnd_energy_lb/L=\", energy_lb/L)\n"
   ]
  },
  {
   "cell_type": "code",
   "execution_count": 8,
   "id": "705a2410-6483-415f-975c-c3ad827112a2",
   "metadata": {},
   "outputs": [
    {
     "name": "stdout",
     "output_type": "stream",
     "text": [
      "Ground state energy from exact diagonalization (L=8, PBC=True): -8.509082235140276\n",
      "L= 8\n",
      "exact ground state energy/L= -1.0636352793925345\n"
     ]
    }
   ],
   "source": [
    "#going to L qubits, (non-scalable) exact diagonalization\n",
    "\n",
    "\n",
    "import numpy as np\n",
    "from scipy.sparse import kron, identity, csr_matrix\n",
    "from scipy.sparse.linalg import eigsh  # sparse eigensolver\n",
    "\n",
    "# Pauli matrices\n",
    "I = csr_matrix(np.eye(2))\n",
    "X = csr_matrix(np.array([[0, 1], [1, 0]]))\n",
    "Y = csr_matrix(np.array([[0, -1j], [1j, 0]]))\n",
    "Z = csr_matrix(np.array([[1, 0], [0, -1]]))\n",
    "\n",
    "\n",
    "def build_operator(pauli, site, L):\n",
    "    \"\"\"Construct L-qubit operator with `pauli` at position `site`.\"\"\"\n",
    "    ops = [I] * L\n",
    "    ops[site] = pauli\n",
    "    result = ops[0]\n",
    "    for op in ops[1:]:\n",
    "        result = kron(result, op, format='csr')\n",
    "    return result\n",
    "\n",
    "\n",
    "def build_two_qubit_operator(pauli1, pauli2, site1, site2, L):\n",
    "    \"\"\"Construct L-qubit operator with pauli1 at site1 and pauli2 at site2.\"\"\"\n",
    "    ops = [I] * L\n",
    "    ops[site1] = pauli1\n",
    "    ops[site2] = pauli2\n",
    "    result = ops[0]\n",
    "    for op in ops[1:]:\n",
    "        result = kron(result, op, format='csr')\n",
    "    return result\n",
    "\n",
    "def exact_diagonalization(L, h=1, J=1, pbc=True):\n",
    "    \"\"\"Compute ground state energy using exact diagonalization.\"\"\"\n",
    "    H = csr_matrix((2**L, 2**L), dtype=np.complex128)\n",
    "\n",
    "    # On-site terms: h * Z_i\n",
    "    for i in range(L):\n",
    "        H += h * build_operator(Z, i, L)\n",
    "\n",
    "    # Interaction terms: J * X_i X_{i+1}\n",
    "    for i in range(L):\n",
    "        j = (i + 1) % L if pbc else i + 1\n",
    "        if j < L:\n",
    "            H += J * build_two_qubit_operator(X, X, i, j, L)\n",
    "\n",
    "    # Compute lowest eigenvalue\n",
    "    eigval, _ = eigsh(H, k=1, which='SA')  # Smallest Algebraic\n",
    "    ground_energy = np.real(eigval[0])\n",
    "\n",
    "    print(f\"Ground state energy from exact diagonalization (L={L}, PBC={pbc}): {ground_energy}\")\n",
    "    return ground_energy\n",
    "\n",
    "# Example usage\n",
    "L=8\n",
    "gnd_energy_exact=exact_diagonalization(L=L, h=1, J=.5, pbc=True)\n",
    "\n",
    "print(\"L=\",L)\n",
    "print(\"exact ground state energy/L=\", gnd_energy_exact/L)\n"
   ]
  },
  {
   "cell_type": "code",
   "execution_count": 9,
   "id": "02f280d3-8d1a-4910-a025-d2de33274bcb",
   "metadata": {},
   "outputs": [
    {
     "name": "stdout",
     "output_type": "stream",
     "text": [
      "Remark: 1D transverse field Ising model can be analytically solved.\n",
      "Here it serves as a toy model to understand the mechanism of the relaxation, and how it is scalable wrt exact diagonalization\n"
     ]
    }
   ],
   "source": [
    "print(\"Remark: 1D transverse field Ising model can be analytically solved.\")\n",
    "print(\"Here it serves as a toy model to understand the mechanism of the relaxation, and how it is scalable wrt exact diagonalization\")"
   ]
  },
  {
   "cell_type": "code",
   "execution_count": null,
   "id": "3bc8618f-565d-4760-b30d-8dc9cdb22da5",
   "metadata": {},
   "outputs": [],
   "source": []
  }
 ],
 "metadata": {
  "kernelspec": {
   "display_name": "Python 3 (ipykernel)",
   "language": "python",
   "name": "python3"
  },
  "language_info": {
   "codemirror_mode": {
    "name": "ipython",
    "version": 3
   },
   "file_extension": ".py",
   "mimetype": "text/x-python",
   "name": "python",
   "nbconvert_exporter": "python",
   "pygments_lexer": "ipython3",
   "version": "3.11.8"
  }
 },
 "nbformat": 4,
 "nbformat_minor": 5
}
