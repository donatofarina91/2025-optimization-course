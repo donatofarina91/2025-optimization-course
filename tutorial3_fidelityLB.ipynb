{
 "cells": [
  {
   "cell_type": "code",
   "execution_count": 1,
   "id": "4ee3b1b8-5572-4418-9165-5a4ad63062fb",
   "metadata": {},
   "outputs": [
    {
     "data": {
      "text/latex": [
       "$\\displaystyle \\text{Example of certification of quantum property:}$"
      ],
      "text/plain": [
       "<IPython.core.display.Math object>"
      ]
     },
     "metadata": {},
     "output_type": "display_data"
    },
    {
     "data": {
      "text/latex": [
       "$\\displaystyle \\text{Minimum fidelity of state preparation}$"
      ],
      "text/plain": [
       "<IPython.core.display.Math object>"
      ]
     },
     "metadata": {},
     "output_type": "display_data"
    },
    {
     "data": {
      "text/latex": [
       "$\\displaystyle \\text{see, e.g., Quantum 8, 1442 (2024)}$"
      ],
      "text/plain": [
       "<IPython.core.display.Math object>"
      ]
     },
     "metadata": {},
     "output_type": "display_data"
    }
   ],
   "source": [
    "from IPython.display import display, Math\n",
    "display(Math(r'\\text{Example of certification of quantum property:}'))\n",
    "\n",
    "display(Math(r'\\text{Minimum fidelity of state preparation}'))\n",
    "\n",
    "display(Math(r'\\text{see, e.g., Quantum 8, 1442 (2024)}'))"
   ]
  },
  {
   "cell_type": "code",
   "execution_count": 2,
   "id": "30646149-15f4-41e0-8c50-1638ed10a502",
   "metadata": {},
   "outputs": [],
   "source": [
    "import numpy as np\n",
    "from itertools import product\n",
    "from scipy.sparse import kron, identity, csr_matrix\n",
    "\n",
    "\n",
    "# Define basic single-qubit Pauli matrices\n",
    "I_mat = np.array([[1, 0], [0, 1]])\n",
    "X_mat = np.array([[0, 1], [1, 0]])\n",
    "Y_mat = np.array([[0, -1j], [1j, 0]])\n",
    "Z_mat = np.array([[1, 0], [0, -1]])\n",
    "\n",
    "pauli_dict_list = {'I': I_mat, 'X': X_mat, 'Y': Y_mat, 'Z': Z_mat}\n",
    "\n",
    "\n",
    "\n",
    "def random_qubit_pure_state(n):\n",
    "    \"\"\"\n",
    "    Generate a random pure quantum state of n qubits as a sparse column vector.\n",
    "\n",
    "    Args:\n",
    "        n: number of qubits\n",
    "\n",
    "    Returns:\n",
    "        psi: (2^n x 1) normalized complex state vector \n",
    "    \"\"\"\n",
    "    dim = 2 ** n\n",
    "    real = np.random.randn(dim)\n",
    "    imag = np.random.randn(dim)\n",
    "    vec = real + 1j * imag\n",
    "\n",
    "    vec /= np.linalg.norm(vec)  # Normalize to unit norm\n",
    "    return csr_matrix(vec.reshape((-1, 1)))     \n",
    "\n",
    "# Generate tensor product of Pauli string\n",
    "def pauli_tensor_func(pauli_string):\n",
    "    mat = pauli_dict_list[pauli_string[0]]  \n",
    "    for p in pauli_string[1:]:\n",
    "        mat = np.kron(mat, pauli_dict_list[p])\n",
    "    return mat\n",
    "\n",
    "# Generate all n-qubit Pauli strings\n",
    "def generate_pauli_strings(n):\n",
    "    return [''.join(p) for p in product('IXYZ', repeat=n)]\n",
    "\n",
    "# Pauli decomposition\n",
    "def pauli_decomposition_func(H):\n",
    "    n = int(np.log2(H.shape[0]))\n",
    "    pauli_strings = generate_pauli_strings(n)\n",
    "    result = []\n",
    "    for p_str in pauli_strings:\n",
    "        P = pauli_tensor_func(p_str)\n",
    "        coeff = np.trace(H @ P.conj().T) #they are unnormalized\n",
    "        result.append((p_str, coeff))\n",
    "    return result\n"
   ]
  },
  {
   "cell_type": "code",
   "execution_count": 3,
   "id": "ce8b238c-482d-4f27-8a6a-5b3aa45d9710",
   "metadata": {},
   "outputs": [
    {
     "data": {
      "text/latex": [
       "$\\displaystyle \\rho=\\frac{1}{2^L}\\sum_\\alpha m_\\alpha P_\\alpha $"
      ],
      "text/plain": [
       "<IPython.core.display.Math object>"
      ]
     },
     "metadata": {},
     "output_type": "display_data"
    },
    {
     "data": {
      "text/latex": [
       "$\\displaystyle m_\\alpha={\\rm tr}( \\rho P_\\alpha)$"
      ],
      "text/plain": [
       "<IPython.core.display.Math object>"
      ]
     },
     "metadata": {},
     "output_type": "display_data"
    }
   ],
   "source": [
    "display(Math(r'\\rho=\\frac{1}{2^L}\\sum_\\alpha m_\\alpha P_\\alpha '))\n",
    "display(Math(r'm_\\alpha={\\rm tr}( \\rho P_\\alpha)'))"
   ]
  },
  {
   "cell_type": "code",
   "execution_count": 4,
   "id": "ce5be778-564a-4f46-a52f-9427945f6461",
   "metadata": {},
   "outputs": [
    {
     "name": "stdout",
     "output_type": "stream",
     "text": [
      "number of qubits L= 4\n",
      "len(terms)= 256\n",
      "the trace of the state is  (1+0j)\n",
      "the purity of the state is  (1.0000000000000004-6.559423143537302e-18j)\n",
      "norm(sum-oper)= 1.2627527741824203e-16\n"
     ]
    }
   ],
   "source": [
    "# Example: L-qubit Hermitian matrix\n",
    "L=4 ;print(\"number of qubits L=\", L)\n",
    "psi=random_qubit_pure_state(L)\n",
    "\n",
    "oper=psi@psi.T.conj()\n",
    "\n",
    "\n",
    "\n",
    "# Compute and print decomposition\n",
    "terms = pauli_decomposition_func(oper)\n",
    "\n",
    "print(\"len(terms)=\", len(terms))  #4^L\n",
    "#print(pauli_tensor_func(terms[3][0]))\n",
    "\n",
    "#a check: we reconstruct the state\n",
    "sum=pauli_tensor_func(terms[0][0])*0 #a simple initialization\n",
    "for i in range(len(terms)):\n",
    "    sum=sum+pauli_tensor_func(terms[i][0])*(terms[i][1])\n",
    "sum=sum/np.sqrt(len(terms))\n",
    "\n",
    "#print(sum)\n",
    "print(\"the trace of the state is \", np.trace(sum))#trace of the state\n",
    "print(\"the purity of the state is \", np.trace(sum@sum))#purity\n",
    "print(\"norm(sum-oper)=\", np.linalg.norm(sum-oper))#check we are reconstructing well\n",
    "\n",
    "#print(\"Make sure the element zero is the identity\")\n",
    "#print(pauli_tensor_func(terms[0][0]))"
   ]
  },
  {
   "cell_type": "code",
   "execution_count": 5,
   "id": "831f9a63-c504-4171-994c-0bce4ff5beaa",
   "metadata": {},
   "outputs": [],
   "source": [
    "#random permutation of 0 and 1, this tells us what we have measured and what no\n",
    "#----\n",
    "import random\n",
    "\n",
    "\n",
    "def random_binary_permutation(n, m):\n",
    "    if m > n or m < 0:\n",
    "        raise ValueError(\"m must be between 0 and n\")\n",
    "    array = [1] * m + [0] * (n - m)\n",
    "    random.shuffle(array)\n",
    "    return array\n",
    "\n"
   ]
  },
  {
   "cell_type": "code",
   "execution_count": 6,
   "id": "7b5feb94-937e-4966-ba92-14522555c7de",
   "metadata": {},
   "outputs": [
    {
     "data": {
      "text/latex": [
       "$\\displaystyle \\text{we produce a string of 0(not measured) and 1(measured) to say when a nontrivial Pauli is meaured, } 4^L-1\\text{ elements}$"
      ],
      "text/plain": [
       "<IPython.core.display.Math object>"
      ]
     },
     "metadata": {},
     "output_type": "display_data"
    },
    {
     "name": "stdout",
     "output_type": "stream",
     "text": [
      "[0, 0, 0, 0, 1, 0, 0, 0, 0, 0, 0, 0, 1, 0, 0, 0, 1, 0, 0, 0, 0, 0, 0, 0, 1, 0, 0, 0, 0, 0, 0, 0, 0, 0, 0, 1, 0, 1, 0, 1, 0, 0, 0, 0, 0, 0, 0, 1, 0, 0, 0, 1, 0, 0, 0, 0, 0, 0, 0, 0, 0, 0, 0, 0, 0, 0, 0, 0, 0, 0, 0, 0, 0, 0, 0, 0, 0, 1, 0, 0, 0, 0, 0, 1, 0, 0, 0, 0, 0, 1, 0, 0, 0, 0, 0, 1, 0, 0, 0, 0, 0, 0, 0, 0, 0, 1, 0, 0, 1, 0, 0, 0, 0, 0, 1, 0, 0, 0, 0, 0, 0, 0, 0, 0, 1, 0, 0, 1, 0, 0, 0, 0, 0, 0, 0, 0, 0, 0, 0, 0, 0, 0, 0, 0, 0, 0, 0, 0, 0, 0, 1, 0, 1, 0, 0, 0, 1, 0, 0, 0, 0, 0, 0, 0, 0, 0, 1, 0, 0, 1, 0, 0, 0, 0, 1, 0, 0, 0, 0, 0, 0, 1, 0, 0, 0, 0, 0, 0, 0, 0, 0, 0, 0, 0, 0, 0, 1, 0, 0, 0, 0, 0, 0, 0, 0, 0, 0, 0, 0, 0, 0, 0, 1, 0, 0, 0, 0, 0, 0, 0, 0, 0, 1, 0, 0, 0, 0, 0, 0, 0, 1, 0, 0, 0, 0, 0, 1, 0, 0, 0, 0, 1, 0, 0, 0, 0, 0, 0, 1, 0, 1, 0, 0, 0, 0]\n"
     ]
    }
   ],
   "source": [
    "display(Math(r'\\text{we produce a string of 0(not measured) and 1(measured) to say when a nontrivial Pauli is meaured, } 4^L-1\\text{ elements}'))\n",
    "\n",
    "fraction=.13 #<-----------------------------------\\in [0,1]\n",
    "\n",
    "rand_vec=random_binary_permutation((len(terms)-1), int((len(terms)-1) * fraction))\n",
    "print(rand_vec)"
   ]
  },
  {
   "cell_type": "code",
   "execution_count": 7,
   "id": "ec2e9205-6c67-4a92-bf10-a45c95f2a080",
   "metadata": {},
   "outputs": [
    {
     "name": "stdout",
     "output_type": "stream",
     "text": [
      "problem status= optimal\n",
      "Based on knowing 33 random Pauli nontrivial moments (out of  255 )\n",
      "We certify that the fidelity of state preparation is at least 0.7346281084139082\n"
     ]
    }
   ],
   "source": [
    "#SDP for min fidelity of state preparation (target pure state) based on those measurements\n",
    "import cvxpy as cp\n",
    "\n",
    "#define sdp viariables\n",
    "X = cp.Variable((2**L, 2**L), hermitian=True)  #the quantum state\n",
    "#define constraints for the quantum state\n",
    "constraints = []\n",
    "constraints += [X >> 0]\n",
    "constraints += [cp.trace(X) == 1]\n",
    "for i in range(len(terms)-1): #I don't add again the trace 1 condition.\n",
    "    if rand_vec[i]==1: constraints += [cp.trace(X@pauli_tensor_func(terms[i+1][0])) == cp.trace(oper@pauli_tensor_func(terms[i+1][0]))]\n",
    "    \n",
    "\n",
    "#define the problem\n",
    "objective=cp.Minimize(cp.real(cp.trace(oper@X)))\n",
    "prob = cp.Problem(objective, constraints)\n",
    "prob.solve(solver=cp.MOSEK, verbose=False) \n",
    "\n",
    "print(\"problem status=\",prob.status)\n",
    "print(\"Based on knowing\", int((len(terms)-1) * fraction), \"random Pauli nontrivial moments (out of \", (len(terms)-1),\")\")\n",
    "print(\"We certify that the fidelity of state preparation is at least\", prob.value)\n",
    "\n",
    "\n",
    "rec_dm=np.array(X.value) #to also extract the reconstruction under partial information\n",
    "\n",
    "#print(np.real(np.trace(rec_dm@oper)))  #we can check we obtain the same result consistently\n",
    "\n"
   ]
  },
  {
   "cell_type": "code",
   "execution_count": null,
   "id": "3b0e9b67-5cf6-4e23-933b-a08466b2c7c2",
   "metadata": {},
   "outputs": [],
   "source": []
  }
 ],
 "metadata": {
  "kernelspec": {
   "display_name": "Python 3 (ipykernel)",
   "language": "python",
   "name": "python3"
  },
  "language_info": {
   "codemirror_mode": {
    "name": "ipython",
    "version": 3
   },
   "file_extension": ".py",
   "mimetype": "text/x-python",
   "name": "python",
   "nbconvert_exporter": "python",
   "pygments_lexer": "ipython3",
   "version": "3.11.8"
  }
 },
 "nbformat": 4,
 "nbformat_minor": 5
}
