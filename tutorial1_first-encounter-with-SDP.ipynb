{
 "cells": [
  {
   "cell_type": "code",
   "execution_count": 1,
   "id": "cc13e1d8-7949-434a-9f3c-55db926fa180",
   "metadata": {},
   "outputs": [],
   "source": [
    "#2025-04-28-tutorial\n",
    "\n",
    "from IPython.display import display, Math\n"
   ]
  },
  {
   "cell_type": "code",
   "execution_count": 2,
   "id": "a1924c8f-3a6b-4e58-a92f-61ec0b971304",
   "metadata": {},
   "outputs": [
    {
     "data": {
      "text/latex": [
       "$\\displaystyle  H =  -J_1 \\sum_{i=1}^{L-1} \\sigma_i^z \\sigma_{i+1}^z  - J_2 \\sum_{i=1}^{L-2} \\sigma_i^z \\sigma_{i+2}^z  - h \\sum_{i=1}^{L} \\sigma_i^x  - g \\sum_{i=1}^{L} \\sigma_i^z  - \\frac{J_{xy}}{2} (1 + \\gamma) \\sum_{i=1}^{L-1} (1 - (-1)^i \\delta)\\, \\sigma_i^x \\sigma_{i+1}^x  - \\frac{J_{xy}}{2} (1 - \\gamma) \\sum_{i=1}^{L-1} (1 - (-1)^i \\delta)\\, \\sigma_i^y \\sigma_{i+1}^y$"
      ],
      "text/plain": [
       "<IPython.core.display.Math object>"
      ]
     },
     "metadata": {},
     "output_type": "display_data"
    }
   ],
   "source": [
    "display(Math(r' H =  -J_1 \\sum_{i=1}^{L-1} \\sigma_i^z \\sigma_{i+1}^z  - J_2 \\sum_{i=1}^{L-2} \\sigma_i^z \\sigma_{i+2}^z  - h \\sum_{i=1}^{L} \\sigma_i^x  - g \\sum_{i=1}^{L} \\sigma_i^z  - \\frac{J_{xy}}{2} (1 + \\gamma) \\sum_{i=1}^{L-1} (1 - (-1)^i \\delta)\\, \\sigma_i^x \\sigma_{i+1}^x  - \\frac{J_{xy}}{2} (1 - \\gamma) \\sum_{i=1}^{L-1} (1 - (-1)^i \\delta)\\, \\sigma_i^y \\sigma_{i+1}^y'))"
   ]
  },
  {
   "cell_type": "code",
   "execution_count": 3,
   "id": "66fd8c64",
   "metadata": {},
   "outputs": [
    {
     "data": {
      "text/latex": [
       "$\\displaystyle \\text{Tutorial}$"
      ],
      "text/plain": [
       "<IPython.core.display.Math object>"
      ]
     },
     "metadata": {},
     "output_type": "display_data"
    }
   ],
   "source": [
    "display(Math(r'\\text{Tutorial}'))"
   ]
  },
  {
   "cell_type": "code",
   "execution_count": 4,
   "id": "df34fed2-e777-498e-8d0d-94d5f424650b",
   "metadata": {},
   "outputs": [
    {
     "data": {
      "text/latex": [
       "$\\displaystyle \\text{Quantum Ising model (with open boundary conditions)}$"
      ],
      "text/plain": [
       "<IPython.core.display.Math object>"
      ]
     },
     "metadata": {},
     "output_type": "display_data"
    },
    {
     "data": {
      "text/latex": [
       "$\\displaystyle H = -J_1 \\sum_{\\langle i,j \\rangle} \\sigma_i^z \\sigma_j^z - h \\sum_i \\sigma_i^x$"
      ],
      "text/plain": [
       "<IPython.core.display.Math object>"
      ]
     },
     "metadata": {},
     "output_type": "display_data"
    },
    {
     "data": {
      "text/latex": [
       "$\\displaystyle \\text{Define Hamiltonian and set the parameters}$"
      ],
      "text/plain": [
       "<IPython.core.display.Math object>"
      ]
     },
     "metadata": {},
     "output_type": "display_data"
    }
   ],
   "source": [
    "display(Math(r'\\text{Quantum Ising model (with open boundary conditions)}'))\n",
    "display(Math(r'H = -J_1 \\sum_{\\langle i,j \\rangle} \\sigma_i^z \\sigma_j^z - h \\sum_i \\sigma_i^x'))\n",
    "display(Math(r'\\text{Define Hamiltonian and set the parameters}'))"
   ]
  },
  {
   "cell_type": "code",
   "execution_count": 5,
   "id": "6c4804a6-cabf-4654-9b1f-ea400bb22bc0",
   "metadata": {},
   "outputs": [
    {
     "name": "stdout",
     "output_type": "stream",
     "text": [
      " H0 has L=4, J1=1,J2=0, h=0.3, g=0.0, J_xy=0, delta=0.0, gamma=0.0 \n",
      "the ground state energy is -3.1433267964028113\n",
      "the first excited energy is -3.128581360641489\n",
      "The energy gap is 0.014745435761322145\n",
      "\n",
      " \n",
      " Elapsed time: 0.5671 seconds\n"
     ]
    }
   ],
   "source": [
    "\n",
    "import time\n",
    "\n",
    "start = time.time()\n",
    "\n",
    "import numpy as np\n",
    "from scipy.sparse import kron, identity, csr_matrix\n",
    "from scipy.sparse.linalg import eigsh\n",
    "\n",
    "\n",
    "# Define Pauli matrices\n",
    "sx = csr_matrix(np.array([[0, 1], [1, 0]], dtype=complex))\n",
    "sy = csr_matrix(np.array([[0, -1j], [1j, 0]], dtype=complex))\n",
    "sz = csr_matrix(np.array([[1, 0], [0, -1]], dtype=complex))\n",
    "id2 = identity(2, format='csr', dtype=complex)\n",
    "\n",
    "def kron_n(ops):\n",
    "    \"\"\"Kronecker product of a list of operators.\"\"\"\n",
    "    result = ops[0]\n",
    "    for op in ops[1:]:\n",
    "        result = kron(result, op, format='csr')\n",
    "    return result\n",
    "\n",
    "\n",
    "def build_hamiltonian(L, J1, J2, h, g, J_xy, delta, gamma):\n",
    "    H = csr_matrix((2**L, 2**L), dtype=complex)\n",
    "\n",
    "    # Build -J1 * sum sigma^z_i sigma^z_{i+1}\n",
    "    for i in range(L-1):\n",
    "        ops = [id2] * L\n",
    "        ops[i] = sz\n",
    "        ops[(i + 1)] = sz\n",
    "        H -= J1 * kron_n(ops)\n",
    "\n",
    "    # Build -J2 * sum sigma^z_i sigma^z_{i+2}\n",
    "    for i in range(L-2):\n",
    "        ops = [id2] * L\n",
    "        ops[i] = sz\n",
    "        ops[(i + 2)] = sz\n",
    "        H -= J2 * kron_n(ops)\n",
    "\n",
    "    # Build -h * sum sigma^x_i\n",
    "    for i in range(L):\n",
    "        ops = [id2] * L\n",
    "        ops[i] = sx\n",
    "        H -= h * kron_n(ops)\n",
    "\n",
    "\n",
    "    # Build -g * sum sigma^z_i \n",
    "    for i in range(L):\n",
    "        ops = [id2] * L\n",
    "        ops[i] = sz\n",
    "        H -= g * kron_n(ops)\n",
    "\n",
    "    # Build dimerized Hamiltonian\n",
    "    for i in range(L-1):\n",
    "        ops = [id2] * L\n",
    "        ops[i] = sx\n",
    "        ops[(i + 1)] = sx\n",
    "        H -= J_xy*(1-(-1)**i*delta)*(1+gamma)/2 * kron_n(ops)\n",
    "\n",
    "    for i in range(L-1):\n",
    "        ops = [id2] * L\n",
    "        ops[i] = sy\n",
    "        ops[(i + 1)] = sy\n",
    "        H -= J_xy*(1-(-1)**i*delta)*(1-gamma)/2 * kron_n(ops)\n",
    "\n",
    "    \n",
    "    #return the Hamiltonian\n",
    "    return H\n",
    "\n",
    "\n",
    "L=4; \n",
    " \n",
    "J1=1; h=0.3;  \n",
    "J_xy=0; delta=0.; gamma=0.; J2=0; g=0.; \n",
    "\n",
    "H=build_hamiltonian(L, J1, J2, h, g, J_xy, delta, gamma)\n",
    "\n",
    "# Diagonalize the Hamiltonian\n",
    "eigenvalues, eigenvectors = eigsh(H, k=2, which='SA')  # Calculate the ground state and the first excited state\n",
    "#‘SA’ : Smallest (algebraic) eigenvalues.\n",
    " \n",
    "\n",
    "print(f\" H0 has L={L}, J1={J1},J2={J2}, h={h}, g={g}, J_xy={J_xy}, delta={delta}, gamma={gamma} \")\n",
    "#print(eigenvalues)\n",
    "print(\"the ground state energy is \"+ str(np.min(eigenvalues)))\n",
    "print(\"the first excited energy is \"+ str(np.max(eigenvalues)))\n",
    "gap_diag=np.max(eigenvalues)-np.min(eigenvalues)\n",
    "\n",
    "\n",
    "end = time.time()\n",
    "\n",
    "print(\"The energy gap is \"+ str(gap_diag))\n",
    "\n",
    "\n",
    "\n",
    "print(f\"\\n \\n Elapsed time: {end - start:.4f} seconds\")\n",
    "\n",
    "Egs=np.min(eigenvalues)\n",
    "\n",
    "\n"
   ]
  },
  {
   "cell_type": "code",
   "execution_count": 6,
   "id": "d2b1b372-d94f-4ca9-b2da-648564164bc0",
   "metadata": {},
   "outputs": [
    {
     "data": {
      "text/latex": [
       "$\\displaystyle \\text{Find the ground state energy with an SDP}$"
      ],
      "text/plain": [
       "<IPython.core.display.Math object>"
      ]
     },
     "metadata": {},
     "output_type": "display_data"
    }
   ],
   "source": [
    "display(Math(r'\\text{Find the ground state energy with an SDP}'))"
   ]
  },
  {
   "cell_type": "code",
   "execution_count": 7,
   "id": "93679b70-af6a-4d6a-a6ee-b75767ef77e4",
   "metadata": {},
   "outputs": [
    {
     "name": "stdout",
     "output_type": "stream",
     "text": [
      "problem status =  optimal\n",
      "The gnd state energy computed with the sdp is -3.143326832050042\n"
     ]
    }
   ],
   "source": [
    "#find the ground state with an SDP\n",
    "\n",
    "\n",
    "import cvxpy as cp\n",
    "\n",
    "#define sdp viariables\n",
    "X = cp.Variable((2**L, 2**L), hermitian=True)  #the quantum state\n",
    "#define constriants for the quantum state\n",
    "constraints = []\n",
    "constraints += [X >> 0]\n",
    "constraints += [cp.trace(X) == 1]\n",
    "\n",
    "#define the problem\n",
    "objective=cp.Minimize(cp.real(cp.trace(H@X)))\n",
    "prob = cp.Problem(objective, constraints)\n",
    "prob.solve(solver=cp.MOSEK, verbose=False)#set verbose to true to see details on the calculation\n",
    "\n",
    "print(\"problem status = \",prob.status)\n",
    "\n",
    "Egs_sdp=prob.value\n",
    "print(\"The gnd state energy computed with the sdp is\", Egs_sdp)\n"
   ]
  },
  {
   "cell_type": "code",
   "execution_count": null,
   "id": "c9081f15-d873-43db-b192-a0a840825d7e",
   "metadata": {},
   "outputs": [],
   "source": []
  }
 ],
 "metadata": {
  "kernelspec": {
   "display_name": "Python 3 (ipykernel)",
   "language": "python",
   "name": "python3"
  },
  "language_info": {
   "codemirror_mode": {
    "name": "ipython",
    "version": 3
   },
   "file_extension": ".py",
   "mimetype": "text/x-python",
   "name": "python",
   "nbconvert_exporter": "python",
   "pygments_lexer": "ipython3",
   "version": "3.11.8"
  }
 },
 "nbformat": 4,
 "nbformat_minor": 5
}
