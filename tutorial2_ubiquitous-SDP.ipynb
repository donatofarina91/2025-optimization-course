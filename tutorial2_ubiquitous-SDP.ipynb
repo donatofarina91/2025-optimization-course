{
 "cells": [
  {
   "cell_type": "code",
   "execution_count": 1,
   "id": "cc13e1d8-7949-434a-9f3c-55db926fa180",
   "metadata": {},
   "outputs": [],
   "source": [
    "#2025-04-28-tutorial\n",
    "\n",
    "from IPython.display import display, Math\n"
   ]
  },
  {
   "cell_type": "code",
   "execution_count": 2,
   "id": "a1924c8f-3a6b-4e58-a92f-61ec0b971304",
   "metadata": {},
   "outputs": [
    {
     "data": {
      "text/latex": [
       "$\\displaystyle  H =  -J_1 \\sum_{i=1}^{L-1} \\sigma_i^z \\sigma_{i+1}^z  - J_2 \\sum_{i=1}^{L-2} \\sigma_i^z \\sigma_{i+2}^z  - h \\sum_{i=1}^{L} \\sigma_i^x  - g \\sum_{i=1}^{L} \\sigma_i^z  - \\frac{J_{xy}}{2} (1 + \\gamma) \\sum_{i=1}^{L-1} (1 - (-1)^i \\delta)\\, \\sigma_i^x \\sigma_{i+1}^x  - \\frac{J_{xy}}{2} (1 - \\gamma) \\sum_{i=1}^{L-1} (1 - (-1)^i \\delta)\\, \\sigma_i^y \\sigma_{i+1}^y$"
      ],
      "text/plain": [
       "<IPython.core.display.Math object>"
      ]
     },
     "metadata": {},
     "output_type": "display_data"
    }
   ],
   "source": [
    "display(Math(r' H =  -J_1 \\sum_{i=1}^{L-1} \\sigma_i^z \\sigma_{i+1}^z  - J_2 \\sum_{i=1}^{L-2} \\sigma_i^z \\sigma_{i+2}^z  - h \\sum_{i=1}^{L} \\sigma_i^x  - g \\sum_{i=1}^{L} \\sigma_i^z  - \\frac{J_{xy}}{2} (1 + \\gamma) \\sum_{i=1}^{L-1} (1 - (-1)^i \\delta)\\, \\sigma_i^x \\sigma_{i+1}^x  - \\frac{J_{xy}}{2} (1 - \\gamma) \\sum_{i=1}^{L-1} (1 - (-1)^i \\delta)\\, \\sigma_i^y \\sigma_{i+1}^y'))"
   ]
  },
  {
   "cell_type": "code",
   "execution_count": 3,
   "id": "66fd8c64",
   "metadata": {},
   "outputs": [
    {
     "data": {
      "text/latex": [
       "$\\displaystyle \\text{Tutorial 2: energy gap and trace distance as SDPs}$"
      ],
      "text/plain": [
       "<IPython.core.display.Math object>"
      ]
     },
     "metadata": {},
     "output_type": "display_data"
    }
   ],
   "source": [
    "display(Math(r'\\text{Tutorial 2: energy gap and trace distance as SDPs}'))"
   ]
  },
  {
   "cell_type": "code",
   "execution_count": 4,
   "id": "df34fed2-e777-498e-8d0d-94d5f424650b",
   "metadata": {},
   "outputs": [
    {
     "data": {
      "text/latex": [
       "$\\displaystyle \\text{Quantum Ising model (with open boundary conditions)}$"
      ],
      "text/plain": [
       "<IPython.core.display.Math object>"
      ]
     },
     "metadata": {},
     "output_type": "display_data"
    },
    {
     "data": {
      "text/latex": [
       "$\\displaystyle H = -J_1 \\sum_{\\langle i,j \\rangle} \\sigma_i^z \\sigma_j^z - h \\sum_i \\sigma_i^x$"
      ],
      "text/plain": [
       "<IPython.core.display.Math object>"
      ]
     },
     "metadata": {},
     "output_type": "display_data"
    },
    {
     "data": {
      "text/latex": [
       "$\\displaystyle \\text{Define Hamiltonian and set the parameters}$"
      ],
      "text/plain": [
       "<IPython.core.display.Math object>"
      ]
     },
     "metadata": {},
     "output_type": "display_data"
    }
   ],
   "source": [
    "display(Math(r'\\text{Quantum Ising model (with open boundary conditions)}'))\n",
    "display(Math(r'H = -J_1 \\sum_{\\langle i,j \\rangle} \\sigma_i^z \\sigma_j^z - h \\sum_i \\sigma_i^x'))\n",
    "display(Math(r'\\text{Define Hamiltonian and set the parameters}'))"
   ]
  },
  {
   "cell_type": "code",
   "execution_count": 5,
   "id": "6c4804a6-cabf-4654-9b1f-ea400bb22bc0",
   "metadata": {},
   "outputs": [
    {
     "name": "stdout",
     "output_type": "stream",
     "text": [
      " H0 has L=4, J1=1,J2=0, h=0.3, g=0.0, J_xy=0, delta=0.0, gamma=0.0 \n",
      "the gnd state energy is -3.1433267964028113\n",
      "the first excited energy is -3.128581360641489\n",
      "the gap is 0.014745435761322145\n"
     ]
    }
   ],
   "source": [
    "import numpy as np\n",
    "import matplotlib.pyplot as plt\n",
    "from scipy.sparse import kron, identity, csr_matrix\n",
    "from scipy.sparse.linalg import eigsh\n",
    " \n",
    "\n",
    "# Define Pauli matrices\n",
    "sx = csr_matrix(np.array([[0, 1], [1, 0]], dtype=complex))\n",
    "sy = csr_matrix(np.array([[0, -1j], [1j, 0]], dtype=complex))\n",
    "sz = csr_matrix(np.array([[1, 0], [0, -1]], dtype=complex))\n",
    "id2 = identity(2, format='csr', dtype=complex)\n",
    "\n",
    "def kron_n(ops):\n",
    "    \"\"\"Kronecker product of a list of operators.\"\"\"\n",
    "    result = ops[0]\n",
    "    for op in ops[1:]:\n",
    "        result = kron(result, op, format='csr')\n",
    "    return result\n",
    "\n",
    "def build_hamiltonian(L, J1, J2, h, g, J_xy, delta, gamma):\n",
    "    H = csr_matrix((2**L, 2**L), dtype=complex)\n",
    "\n",
    "    # Build -J1 * sum sigma^z_i sigma^z_{i+1}\n",
    "    for i in range(L-1):\n",
    "        ops = [id2] * L\n",
    "        ops[i] = sz\n",
    "        ops[(i + 1)] = sz\n",
    "        H -= J1 * kron_n(ops)\n",
    "\n",
    "    # Build -J2 * sum sigma^z_i sigma^z_{i+2}\n",
    "    for i in range(L-2):\n",
    "        ops = [id2] * L\n",
    "        ops[i] = sz\n",
    "        ops[(i + 2)] = sz\n",
    "        H -= J2 * kron_n(ops)\n",
    "\n",
    "    # Build -h * sum sigma^x_i\n",
    "    for i in range(L):\n",
    "        ops = [id2] * L\n",
    "        ops[i] = sx\n",
    "        H -= h * kron_n(ops)\n",
    "\n",
    "\n",
    "    # build -g * sum sigma^z_i \n",
    "    for i in range(L):\n",
    "        ops = [id2] * L\n",
    "        ops[i] = sz\n",
    "        H -= g * kron_n(ops)\n",
    "\n",
    "    # build dimerized hamiltonian\n",
    "    for i in range(L-1):\n",
    "        ops = [id2] * L\n",
    "        ops[i] = sx\n",
    "        ops[(i + 1)] = sx\n",
    "        H -= J_xy*(1-(-1)**i*delta)*(1+gamma)/2 * kron_n(ops)\n",
    "\n",
    "    for i in range(L-1):\n",
    "        ops = [id2] * L\n",
    "        ops[i] = sy\n",
    "        ops[(i + 1)] = sy\n",
    "        H -= J_xy*(1-(-1)**i*delta)*(1-gamma)/2 * kron_n(ops)\n",
    "\n",
    "    \n",
    "    #return the Hamiltonian\n",
    "    return H\n",
    "\n",
    "\n",
    "L=4; \n",
    " \n",
    "J1=1; h=0.3;  \n",
    "J_xy=0; delta=0.; gamma=0.; J2=0; g=0.; \n",
    "\n",
    "H=build_hamiltonian(L, J1, J2, h, g, J_xy, delta, gamma)\n",
    "\n",
    "# Diagonalize the Hamiltonian\n",
    "eigenvalues, eigenvectors = eigsh(H, k=2, which='SA')  # Calculate the the gnd state and the first excited state\n",
    "#‘SA’ : Smallest (algebraic) eigenvalues.\n",
    " \n",
    "\n",
    "print(f\" H0 has L={L}, J1={J1},J2={J2}, h={h}, g={g}, J_xy={J_xy}, delta={delta}, gamma={gamma} \")\n",
    "print(\"the gnd state energy is \"+ str(np.min(eigenvalues)))\n",
    "print(\"the first excited energy is \"+ str(np.max(eigenvalues)))\n",
    "gap_diag=np.max(eigenvalues)-np.min(eigenvalues)\n",
    "\n",
    "\n",
    " \n",
    "print(\"the gap is \"+ str(gap_diag))\n",
    "\n",
    "\n",
    "\n",
    " \n",
    "Egs=np.min(eigenvalues)\n",
    "\n",
    "\n"
   ]
  },
  {
   "cell_type": "code",
   "execution_count": 6,
   "id": "ecf27b01-a296-42ba-ab52-9181ca21ec12",
   "metadata": {},
   "outputs": [
    {
     "data": {
      "text/latex": [
       "$\\displaystyle \\text{Find the gap with an SDP}$"
      ],
      "text/plain": [
       "<IPython.core.display.Math object>"
      ]
     },
     "metadata": {},
     "output_type": "display_data"
    },
    {
     "data": {
      "text/latex": [
       "$\\displaystyle \\text{see, e.g., arXiv:2411.03680}$"
      ],
      "text/plain": [
       "<IPython.core.display.Math object>"
      ]
     },
     "metadata": {},
     "output_type": "display_data"
    }
   ],
   "source": [
    "display(Math(r'\\text{Find the gap with an SDP}'))\n",
    "display(Math(r'\\text{see, e.g., arXiv:2411.03680}'))"
   ]
  },
  {
   "cell_type": "code",
   "execution_count": 7,
   "id": "5dbd78ed-8ff3-4182-a12f-30505b6713f1",
   "metadata": {},
   "outputs": [
    {
     "name": "stdout",
     "output_type": "stream",
     "text": [
      " H has L=4, J1=1,J2=0, h=0.3, g=0.0, J_xy=0, delta=0.0, gamma=0.0 \n",
      "the min eigval has to be zero now: -4.64606548714879e-16\n",
      "problem status:  optimal\n",
      "The gap computed with the sdp is 0.014745435736031754\n"
     ]
    }
   ],
   "source": [
    "#gap via SDP\n",
    "\n",
    "import cvxpy as cp\n",
    "\n",
    "Hresc=H-Egs*identity(2**L, format='csr', dtype=complex)\n",
    "\n",
    "#just a check that the min eigenvalue is now zero\n",
    "# Diagonalize the Hamiltonian\n",
    "eigenvalues0, eigenvectors = eigsh(Hresc, k=1, which='SA')  # Calculate ground state\n",
    "\n",
    "print(f\" H has L={L}, J1={J1},J2={J2}, h={h}, g={g}, J_xy={J_xy}, delta={delta}, gamma={gamma} \")\n",
    "print(\"the min eigval has to be zero now: \"+str(eigenvalues0[0]))\n",
    "\n",
    "\n",
    "#define sdp viariables\n",
    "X = cp.Variable((1, 1), hermitian=True)  #the quantum state\n",
    "#define constriants for the quantum state\n",
    "constraints = []\n",
    "constraints += [Hresc@Hresc-X*Hresc >> 0]\n",
    "\n",
    "#define the problem\n",
    "prob = cp.Problem(cp.Maximize(cp.real(cp.trace(X))), constraints)\n",
    "prob.solve(solver=cp.MOSEK, verbose=False)#set verbose to \"True\" to see details on the calculation\n",
    "\n",
    "print(\"problem status: \",prob.status)\n",
    "print(\"The gap computed with the sdp is\", prob.value)"
   ]
  },
  {
   "cell_type": "code",
   "execution_count": 8,
   "id": "c913da51-b92a-4fd2-ab70-69a0c1ef5ee0",
   "metadata": {},
   "outputs": [
    {
     "data": {
      "text/latex": [
       "$\\displaystyle \\text{Trace distance of two states as a SDP}$"
      ],
      "text/plain": [
       "<IPython.core.display.Math object>"
      ]
     },
     "metadata": {},
     "output_type": "display_data"
    }
   ],
   "source": [
    "display(Math(r'\\text{Trace distance of two states as a SDP}'))\n",
    "\n",
    "\n",
    "\n",
    "\n",
    "\n",
    "\n"
   ]
  },
  {
   "cell_type": "code",
   "execution_count": 9,
   "id": "1c9b1dc2-850d-453e-b8dd-f6f72230e430",
   "metadata": {},
   "outputs": [],
   "source": [
    "#define two random states rho and sigma\n",
    "\n",
    "def random_dm(n):\n",
    "    A = np.random.randn(n, n) + 1j * np.random.randn(n, n)\n",
    "    H = (A + A.conj().T) / 2  # make it Hermitian\n",
    "    H1=H.conj().T@H  #we make it positive\n",
    "    H2=H1/np.trace(H1)\n",
    "    return H2\n",
    "\n",
    "# Example: 4x4 Hermitian matrix\n",
    "#rho = random_dm(4)\n",
    "#print(np.linalg.eigh(rho)[0])\n",
    "#print(np.trace(rho))\n",
    "\n",
    "d=4\n",
    "\n",
    "rho=random_dm(d)\n",
    "sigma=random_dm(d)"
   ]
  },
  {
   "cell_type": "code",
   "execution_count": 10,
   "id": "248b3b58-4464-4b4c-bc1c-5d297e151920",
   "metadata": {},
   "outputs": [
    {
     "name": "stdout",
     "output_type": "stream",
     "text": [
      "trace norm of (rho - sigma) is 1.1072486590000032\n"
     ]
    }
   ],
   "source": [
    "print(\"trace norm of (rho - sigma) is\",np.linalg.norm(rho-sigma, ord='nuc'))  #trace norm of the difference"
   ]
  },
  {
   "cell_type": "code",
   "execution_count": 11,
   "id": "7212fb88-90e8-483d-ba23-8f078f4d2076",
   "metadata": {},
   "outputs": [
    {
     "name": "stdout",
     "output_type": "stream",
     "text": [
      "problem status:  optimal\n",
      "SDP calculation: trace norm of (rho - sigma) is 1.107248649397817\n",
      "we can check the optimal measurement is projective\n",
      "norm(E1^2-E1)= 1.5877063145561203e-08\n"
     ]
    }
   ],
   "source": [
    "\n",
    "#define sdp viariables\n",
    "E1 = cp.Variable((d, d), hermitian=True)  #first POVM element\n",
    "E2 = cp.Variable((d, d), hermitian=True)  #second POVM element\n",
    "\n",
    "\n",
    "#define constriants for the quantum state\n",
    "constraints = []\n",
    "constraints += [E1 >> 0]\n",
    "constraints += [E2 >> 0]\n",
    "\n",
    "constraints += [E1+E2 == np.eye(d)]\n",
    "\n",
    "#define the problem\n",
    "prob = cp.Problem(cp.Maximize(cp.real(cp.trace(E1@(rho-sigma))+cp.trace(E2@(sigma-rho)))), constraints)\n",
    "prob.solve(solver=cp.MOSEK, verbose=False)#set verbose to true to see details on the calculation\n",
    "\n",
    "print(\"problem status: \",prob.status)\n",
    "print(\"SDP calculation: trace norm of (rho - sigma) is\", prob.value)\n",
    "\n",
    "E1best=E1.value\n",
    "E2best=E2.value\n",
    "\n",
    "print(\"we can check the optimal measurement is projective\")\n",
    "print(\"norm(E1^2-E1)=\",np.linalg.norm(E1best@E1best-E1best, ord='fro'))\n",
    "\n"
   ]
  },
  {
   "cell_type": "code",
   "execution_count": null,
   "id": "c86739cb-0042-4aae-85ee-b11a4626ba5b",
   "metadata": {},
   "outputs": [],
   "source": []
  },
  {
   "cell_type": "code",
   "execution_count": null,
   "id": "ef4a9364-50c8-4d2b-8567-f8477b984576",
   "metadata": {},
   "outputs": [],
   "source": []
  },
  {
   "cell_type": "code",
   "execution_count": null,
   "id": "35109f26-0bba-4aa5-8796-63c0f8590868",
   "metadata": {},
   "outputs": [],
   "source": []
  }
 ],
 "metadata": {
  "kernelspec": {
   "display_name": "Python 3 (ipykernel)",
   "language": "python",
   "name": "python3"
  },
  "language_info": {
   "codemirror_mode": {
    "name": "ipython",
    "version": 3
   },
   "file_extension": ".py",
   "mimetype": "text/x-python",
   "name": "python",
   "nbconvert_exporter": "python",
   "pygments_lexer": "ipython3",
   "version": "3.11.8"
  }
 },
 "nbformat": 4,
 "nbformat_minor": 5
}
